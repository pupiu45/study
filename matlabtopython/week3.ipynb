{
 "cells": [
  {
   "cell_type": "markdown",
   "metadata": {},
   "source": [
    "# Chapter 8\n",
    "## 회색도 변환\n",
    "\n",
    "### 1. 소개\n",
    "\n",
    "#### 이번 단원과 9, 10단원에서는 공간 영역에서의 영상 강화를 다룬다. 영상 강화는 1단원에서 짚었던 대로 다음들을 다룬다 -\n",
    "\n",
    "#### 1. 사람이 보는 영상의 질을 높이기 위해서\n",
    "#### 2. 다른 분석과 내용의 자동 추출을 더 편리하게 하려고 수정하기 위해서\n",
    "\n",
    "#### 첫 번째 경우의 예시로는 골절의 가능성을 진단하기 위한 개선된 X레이 영상이 있다.\n",
    "#### 두 번째 경우의 목적은 영상의 의미있는 내용들을 얻기 위한 중간 단계를 수행하기 위함이다. 예를 들면, OCR 알고리즘을 적용하기 전에 글과 그 배경을 구분하기 위해 그 둘의 차이를 강화하는 작업이 있다.\n",
    "#### 두 과정이 서로의 목적을 위해 쓰일 때도 있다. 사람이 보기에 더 편하게 영상을 결이 곱고 선명하게 만들거나, 필요 없는 정보를 줄이기 위해 영상을 흐리게 하는 것들이 그것이다.\n",
    "#### 두 과정이 1 - 영상이 개선을 필요로 할 때- 과 2 - 낮은 단계의 모양들을 찾아야 할 때 -  모두의 목적을 위해 사용될 때가 있다. 따라서 영상 강화는 중요한 영상의 자세한 사항들이 사람이나 기계에게 발견되기 쉽게 개선한다.\n",
    "#### "
   ]
  },
  {
   "cell_type": "code",
   "execution_count": null,
   "metadata": {
    "collapsed": true
   },
   "outputs": [],
   "source": []
  }
 ],
 "metadata": {
  "kernelspec": {
   "display_name": "Python 3",
   "language": "python",
   "name": "python3"
  },
  "language_info": {
   "codemirror_mode": {
    "name": "ipython",
    "version": 3
   },
   "file_extension": ".py",
   "mimetype": "text/x-python",
   "name": "python",
   "nbconvert_exporter": "python",
   "pygments_lexer": "ipython3",
   "version": "3.6.0"
  }
 },
 "nbformat": 4,
 "nbformat_minor": 2
}
